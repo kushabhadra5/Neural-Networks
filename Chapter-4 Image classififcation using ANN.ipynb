{
 "cells": [
  {
   "cell_type": "code",
   "execution_count": 1,
   "metadata": {},
   "outputs": [],
   "source": [
    "import tensorflow as tf\n",
    "import numpy as np\n",
    "import pandas as pd\n",
    "import os\n",
    "import matplotlib.pyplot as plt\n",
    "import seaborn as sns"
   ]
  },
  {
   "cell_type": "markdown",
   "metadata": {},
   "source": [
    "### **MNIST dataset**\n",
    "\n",
    "---\n",
    "\n",
    "MNIST stands for **Modified National Institute of Standards and Technology**. This datase consists of handwritten numerical digits."
   ]
  },
  {
   "cell_type": "code",
   "execution_count": 2,
   "metadata": {},
   "outputs": [],
   "source": [
    "mnist = tf.keras.datasets.mnist"
   ]
  },
  {
   "cell_type": "markdown",
   "metadata": {},
   "source": [
    " - Loading MNIST dataset."
   ]
  },
  {
   "cell_type": "code",
   "execution_count": 3,
   "metadata": {},
   "outputs": [],
   "source": [
    "(X_train_full, y_train_full), (X_test,y_test) = mnist.load_data()"
   ]
  },
  {
   "cell_type": "markdown",
   "metadata": {},
   "source": [
    " - Applying unit scaling on input features where we'll normalize the value  to a range between 0 and 1. As the pixel values will be from 0 to 255, thus, we'll divide it by 255"
   ]
  },
  {
   "cell_type": "code",
   "execution_count": 4,
   "metadata": {},
   "outputs": [],
   "source": [
    "X_train_full , X_test = X_train_full/255 , X_test/255"
   ]
  },
  {
   "cell_type": "code",
   "execution_count": 5,
   "metadata": {},
   "outputs": [
    {
     "data": {
      "text/plain": [
       "(60000, 28, 28)"
      ]
     },
     "execution_count": 5,
     "metadata": {},
     "output_type": "execute_result"
    }
   ],
   "source": [
    "X_train_full.shape"
   ]
  },
  {
   "cell_type": "markdown",
   "metadata": {},
   "source": [
    " - Analyzing the first list of arays containing datapoints."
   ]
  },
  {
   "cell_type": "code",
   "execution_count": 6,
   "metadata": {},
   "outputs": [
    {
     "data": {
      "image/png": "[encoded data removed]",
      "text/plain": [
       "<Figure size 640x480 with 1 Axes>"
      ]
     },
     "metadata": {},
     "output_type": "display_data"
    }
   ],
   "source": [
    "n_th_image = 400\n",
    "\n",
    "plt.imshow(X_train_full[n_th_image],\n",
    "           cmap = 'binary')\n",
    "plt.axis(\"Off\")\n",
    "plt.show()"
   ]
  },
  {
   "cell_type": "code",
   "execution_count": 7,
   "metadata": {},
   "outputs": [],
   "source": [
    "\n",
    "X_valid, X_train = X_train_full[:5000], X_train_full[5000:]\n",
    "y_valid, y_train = y_train_full[:5000], y_train_full[5000:]"
   ]
  },
  {
   "cell_type": "code",
   "execution_count": 8,
   "metadata": {},
   "outputs": [],
   "source": [
    "from tensorflow.keras.models import Sequential"
   ]
  },
  {
   "cell_type": "code",
   "execution_count": 9,
   "metadata": {},
   "outputs": [],
   "source": [
    "LAYERS = [tf.keras.layers.Flatten(input_shape = [28, 28], \n",
    "                                  name = \"inputlayer\"), \n",
    "          tf.keras.layers.Dense(300,\n",
    "                               activation = \"relu\",\n",
    "                               name = \"hiddenlayer1\"),\n",
    "          tf.keras.layers.Dense(100,\n",
    "                                activation = \"relu\",\n",
    "                                name = \"hiddenlayer2\"),\n",
    "          tf.keras.layers.Dense(10,\n",
    "                                activation = \"softmax\",\n",
    "                                name = \"outputlayer\")]"
   ]
  },
  {
   "cell_type": "markdown",
   "metadata": {},
   "source": [
    "Let's understand the above code:\n",
    "\n",
    "- ```python\n",
    "  tf.keras.layers.Flatten(input_shape=[28, 28], name=\"inputlayer\")\n",
    "  ```\n",
    "  ---\n",
    "  \n",
    "    This creates the input layer of the neural network. The `Flatten` layer is used to reshape the 28x28 input images into a 1-dimensional array of size 784 i.e. (28 * 28). It is necessary to flatten the input images before feeding them into the fully connected layers. The `input_shape` parameter specifies the shape of the input data, which is [28, 28] for the 28x28 pixel images.\n",
    "\n",
    "- ```python\n",
    "  tf.keras.layers.Dense(300, activation=\"relu\", name=\"hiddenlayer1\")\n",
    "  ```\n",
    "  ---\n",
    "\n",
    "    This creates the first hidden layer of the neural network. The Dense layer represents a fully connected layer where each neuron is connected to every neuron in the previous layer. The 300 specifies the number of neurons (also called units) in this layer. The `activation=\"relu\"` argument indicates that the Rectified Linear Unit (ReLU) activation function will be used for the neurons in this layer. ReLU is commonly used as an activation function in hidden layers due to its ability to introduce non-linearity in the network.\n",
    "\n",
    "- ```python\n",
    "  tf.keras.layers.Dense(100, activation=\"relu\", name=\"hiddenlayer2\")\n",
    "  ```\n",
    "  ---\n",
    "\n",
    "    This line creates the second hidden layer of the neural network. Similar to the previous line, this layer also has 100 neurons with the ReLU activation function.\n",
    "\n",
    "- ```python\n",
    "  tf.keras.layers.Dense(10, activation=\"softmax\", name=\"outputlayer\")\n",
    "  ```\n",
    "  ---\n",
    "\n",
    "    This line creates the output layer of the neural network. The output layer has **10 neurons**, corresponding to the **10 possible classes** in the MNIST dataset **(digits 0 to 9)**. The activation=\"softmax\" argument indicates that the Softmax activation function will be used for the neurons in this layer. Softmax is suitable for multi-class classification tasks as it converts the raw model outputs into a probability distribution over the classes, ensuring that the probabilities sum to 1."
   ]
  },
  {
   "cell_type": "code",
   "execution_count": 10,
   "metadata": {},
   "outputs": [],
   "source": [
    "model_clf = Sequential(LAYERS)"
   ]
  },
  {
   "cell_type": "markdown",
   "metadata": {},
   "source": [
    "The `Sequential` class in Keras allows you to build a neural network by simply adding one layer at a time in a **linear fashion**.\n",
    "\n",
    "Here, the `LAYERS` list contains instances of Keras layer objects that specify the architecture of the neural network. The layers in the list are ordered sequentially, representing the flow of data through the network from the input layer to the output layer.\n",
    "\n",
    "The Sequential model is suitable for building feedforward neural networks where each layer passes its output to the next layer without any complex connections like skip connections or multiple inputs/outputs. It's commonly used for simple feedforward architectures like the one shown in the LAYERS list."
   ]
  },
  {
   "cell_type": "code",
   "execution_count": 11,
   "metadata": {},
   "outputs": [
    {
     "name": "stdout",
     "output_type": "stream",
     "text": [
      "Model: \"sequential\"\n",
      "_________________________________________________________________\n",
      " Layer (type)                Output Shape              Param #   \n",
      "=================================================================\n",
      " inputlayer (Flatten)        (None, 784)               0         \n",
      "                                                                 \n",
      " hiddenlayer1 (Dense)        (None, 300)               235500    \n",
      "                                                                 \n",
      " hiddenlayer2 (Dense)        (None, 100)               30100     \n",
      "                                                                 \n",
      " outputlayer (Dense)         (None, 10)                1010      \n",
      "                                                                 \n",
      "=================================================================\n",
      "Total params: 266610 (1.02 MB)\n",
      "Trainable params: 266610 (1.02 MB)\n",
      "Non-trainable params: 0 (0.00 Byte)\n",
      "_________________________________________________________________\n"
     ]
    }
   ],
   "source": [
    "model_clf.summary()"
   ]
  },
  {
   "cell_type": "markdown",
   "metadata": {},
   "source": [
    "After creating the Sequential model, you can compile it and train it on data using the standard Keras functionalities. \n",
    "\n",
    "For example, here we'll compile the model with:\n",
    " - `optimizer`\n",
    " - `loss function`\n",
    " - `metrics` \n",
    " \n",
    "And then train it on the MNIST dataset."
   ]
  },
  {
   "cell_type": "code",
   "execution_count": 12,
   "metadata": {},
   "outputs": [],
   "source": [
    "LOSS_FUNCTION = \"sparse_categorical_crossentropy\"\n",
    "OPTIMIZER = \"adam\"\n",
    "METRICS = [\"accuracy\"]"
   ]
  },
  {
   "cell_type": "code",
   "execution_count": 13,
   "metadata": {},
   "outputs": [],
   "source": [
    "model_clf.compile(loss = LOSS_FUNCTION,\n",
    "                  optimizer = OPTIMIZER,\n",
    "                  metrics = METRICS)"
   ]
  },
  {
   "cell_type": "markdown",
   "metadata": {},
   "source": [
    "In the below cell,\n",
    "\n",
    " - The variable `EPOCHS` is set to $50$. An epoch represents a single pass of the entire training dataset through the neural network during the training process.\n",
    "\n",
    " - ```python\n",
    "   model_clf_training = model_clf.fit(X_train, y_train, epochs=EPOCHS, validation_data=VALIDATION_SET)\n",
    "   ```\n",
    "\n",
    "   This performs the training process of the `model_clf` neural network using the `fit` method. The fit method trains the model on the provided training data (X_train and y_train) and validates it on the validation data (X_valid and y_valid). The model will be trained for the number of epochs specified by the EPOCHS variable."
   ]
  },
  {
   "cell_type": "code",
   "execution_count": 14,
   "metadata": {},
   "outputs": [
    {
     "name": "stdout",
     "output_type": "stream",
     "text": [
      "Epoch 1/5\n",
      "1719/1719 [==============================] - 5s 3ms/step - loss: 0.2114 - accuracy: 0.9382 - val_loss: 0.0954 - val_accuracy: 0.9732\n",
      "Epoch 2/5\n",
      "1719/1719 [==============================] - 5s 3ms/step - loss: 0.0873 - accuracy: 0.9729 - val_loss: 0.1121 - val_accuracy: 0.9686\n",
      "Epoch 3/5\n",
      "1719/1719 [==============================] - 5s 3ms/step - loss: 0.0603 - accuracy: 0.9807 - val_loss: 0.0699 - val_accuracy: 0.9784\n",
      "Epoch 4/5\n",
      "1719/1719 [==============================] - 5s 3ms/step - loss: 0.0438 - accuracy: 0.9857 - val_loss: 0.0869 - val_accuracy: 0.9726\n",
      "Epoch 5/5\n",
      "1719/1719 [==============================] - 4s 3ms/step - loss: 0.0357 - accuracy: 0.9884 - val_loss: 0.0933 - val_accuracy: 0.9742\n"
     ]
    }
   ],
   "source": [
    "EPOCHS = 5\n",
    "VALIDATION_SET = (X_valid, y_valid)\n",
    "model_clf_training = model_clf.fit(X_train, y_train, \n",
    "                                   epochs = EPOCHS, \n",
    "                                   validation_data = VALIDATION_SET)"
   ]
  },
  {
   "cell_type": "markdown",
   "metadata": {},
   "source": [
    "**NOTE** :\n",
    "\n",
    "During training, the model will try to minimize the loss function (`sparse categorical crossentropy`) using the Adam optimizer (as specified during model compilation) while adjusting its weights and biases. The validation data will be used to evaluate the model's performance at the end of each epoch, helping to monitor how well the model generalizes to unseen data.\n"
   ]
  },
  {
   "cell_type": "code",
   "execution_count": 15,
   "metadata": {},
   "outputs": [],
   "source": [
    "import time\n",
    "def save_trained_model(model_dir = \"E:/Project/NN/SAVED_ANN_MODEL/\"):\n",
    "    os.makedirs(model_dir, exist_ok = True)\n",
    "    fileName = time.strftime(\"Model_%Y_%m_%d_%H_%M_%S_.h5\")\n",
    "    model_path = os.path.join(model_dir, fileName)\n",
    "    print(f\"Model saved at the given location: {model_path}\")\n",
    "    return model_path"
   ]
  },
  {
   "cell_type": "code",
   "execution_count": 16,
   "metadata": {},
   "outputs": [
    {
     "name": "stdout",
     "output_type": "stream",
     "text": [
      "Model saved at the given location: E:/Project/NN/SAVED_ANN_MODEL/Model_2023_08_02_11_05_04_.h5\n"
     ]
    },
    {
     "name": "stderr",
     "output_type": "stream",
     "text": [
      "c:\\Users\\KUSHAL\\anaconda3\\envs\\DL\\Lib\\site-packages\\keras\\src\\engine\\training.py:3000: UserWarning: You are saving your model as an HDF5 file via `model.save()`. This file format is considered legacy. We recommend using instead the native Keras format, e.g. `model.save('my_model.keras')`.\n",
      "  saving_api.save_model(\n"
     ]
    }
   ],
   "source": [
    "model_clf.save(save_trained_model())"
   ]
  },
  {
   "cell_type": "code",
   "execution_count": 17,
   "metadata": {},
   "outputs": [
    {
     "data": {
      "text/html": [
       "<div>\n",
       "<style scoped>\n",
       "    .dataframe tbody tr th:only-of-type {\n",
       "        vertical-align: middle;\n",
       "    }\n",
       "\n",
       "    .dataframe tbody tr th {\n",
       "        vertical-align: top;\n",
       "    }\n",
       "\n",
       "    .dataframe thead th {\n",
       "        text-align: right;\n",
       "    }\n",
       "</style>\n",
       "<table border=\"1\" class=\"dataframe\">\n",
       "  <thead>\n",
       "    <tr style=\"text-align: right;\">\n",
       "      <th></th>\n",
       "      <th>loss</th>\n",
       "      <th>accuracy</th>\n",
       "      <th>val_loss</th>\n",
       "      <th>val_accuracy</th>\n",
       "    </tr>\n",
       "  </thead>\n",
       "  <tbody>\n",
       "    <tr>\n",
       "      <th>0</th>\n",
       "      <td>0.211407</td>\n",
       "      <td>0.938200</td>\n",
       "      <td>0.095435</td>\n",
       "      <td>0.9732</td>\n",
       "    </tr>\n",
       "    <tr>\n",
       "      <th>1</th>\n",
       "      <td>0.087256</td>\n",
       "      <td>0.972855</td>\n",
       "      <td>0.112144</td>\n",
       "      <td>0.9686</td>\n",
       "    </tr>\n",
       "    <tr>\n",
       "      <th>2</th>\n",
       "      <td>0.060339</td>\n",
       "      <td>0.980709</td>\n",
       "      <td>0.069936</td>\n",
       "      <td>0.9784</td>\n",
       "    </tr>\n",
       "    <tr>\n",
       "      <th>3</th>\n",
       "      <td>0.043770</td>\n",
       "      <td>0.985745</td>\n",
       "      <td>0.086872</td>\n",
       "      <td>0.9726</td>\n",
       "    </tr>\n",
       "    <tr>\n",
       "      <th>4</th>\n",
       "      <td>0.035735</td>\n",
       "      <td>0.988436</td>\n",
       "      <td>0.093347</td>\n",
       "      <td>0.9742</td>\n",
       "    </tr>\n",
       "  </tbody>\n",
       "</table>\n",
       "</div>"
      ],
      "text/plain": [
       "       loss  accuracy  val_loss  val_accuracy\n",
       "0  0.211407  0.938200  0.095435        0.9732\n",
       "1  0.087256  0.972855  0.112144        0.9686\n",
       "2  0.060339  0.980709  0.069936        0.9784\n",
       "3  0.043770  0.985745  0.086872        0.9726\n",
       "4  0.035735  0.988436  0.093347        0.9742"
      ]
     },
     "execution_count": 17,
     "metadata": {},
     "output_type": "execute_result"
    }
   ],
   "source": [
    "pd.DataFrame(model_clf_training.history)"
   ]
  },
  {
   "cell_type": "code",
   "execution_count": 18,
   "metadata": {},
   "outputs": [
    {
     "data": {
      "image/png": "[encoded data removed]",
      "text/plain": [
       "<Figure size 800x500 with 1 Axes>"
      ]
     },
     "metadata": {},
     "output_type": "display_data"
    }
   ],
   "source": [
    "pd.DataFrame(model_clf_training.history).plot(figsize = (8,5))\n",
    "plt.grid(True)\n",
    "plt.gca().set_ylim(0,1)\n",
    "plt.show()"
   ]
  },
  {
   "cell_type": "code",
   "execution_count": 19,
   "metadata": {},
   "outputs": [
    {
     "name": "stdout",
     "output_type": "stream",
     "text": [
      "313/313 [==============================] - 1s 2ms/step - loss: 0.0964 - accuracy: 0.9729\n"
     ]
    },
    {
     "data": {
      "text/plain": [
       "[0.09642644971609116, 0.9728999733924866]"
      ]
     },
     "execution_count": 19,
     "metadata": {},
     "output_type": "execute_result"
    }
   ],
   "source": [
    "model_clf.evaluate(X_test, y_test)"
   ]
  },
  {
   "cell_type": "markdown",
   "metadata": {},
   "source": [
    " - This evaluates the trained model on the test dataset. \n",
    " - The evaluate method computes the specified metrics on the provided test data and labels.\n",
    " - The model will make predictions on the test data using its learned parameters, and then it will compare those predictions to the true labels (y_test). The performance metrics specified during the model compilation (e.g., accuracy) will be calculated based on this comparison.\n",
    "\n",
    "The evaluate method will return a list of evaluation results, typically containing the values of the specified metrics. For example, if the model was compiled with accuracy as the metric, the evaluate method's return value will be a list containing the accuracy value on the test dataset."
   ]
  },
  {
   "cell_type": "code",
   "execution_count": 20,
   "metadata": {},
   "outputs": [
    {
     "data": {
      "image/png": "[encoded data removed]",
      "text/plain": [
       "<Figure size 640x480 with 1 Axes>"
      ]
     },
     "metadata": {},
     "output_type": "display_data"
    },
    {
     "data": {
      "image/png": "[encoded data removed]",
      "text/plain": [
       "<Figure size 640x480 with 1 Axes>"
      ]
     },
     "metadata": {},
     "output_type": "display_data"
    },
    {
     "data": {
      "image/png": "[encoded data removed]",
      "text/plain": [
       "<Figure size 640x480 with 1 Axes>"
      ]
     },
     "metadata": {},
     "output_type": "display_data"
    },
    {
     "data": {
      "image/png": "[encoded data removed]",
      "text/plain": [
       "<Figure size 640x480 with 1 Axes>"
      ]
     },
     "metadata": {},
     "output_type": "display_data"
    },
    {
     "data": {
      "image/png": "[encoded data removed]",
      "text/plain": [
       "<Figure size 640x480 with 1 Axes>"
      ]
     },
     "metadata": {},
     "output_type": "display_data"
    },
    {
     "data": {
      "image/png": "[encoded data removed]",
      "text/plain": [
       "<Figure size 640x480 with 1 Axes>"
      ]
     },
     "metadata": {},
     "output_type": "display_data"
    },
    {
     "data": {
      "image/png": "[encoded data removed]",
      "text/plain": [
       "<Figure size 640x480 with 1 Axes>"
      ]
     },
     "metadata": {},
     "output_type": "display_data"
    },
    {
     "data": {
      "image/png": "[encoded data removed]",
      "text/plain": [
       "<Figure size 640x480 with 1 Axes>"
      ]
     },
     "metadata": {},
     "output_type": "display_data"
    },
    {
     "data": {
      "image/png": "[encoded data removed]",
      "text/plain": [
       "<Figure size 640x480 with 1 Axes>"
      ]
     },
     "metadata": {},
     "output_type": "display_data"
    },
    {
     "data": {
      "image/png": "[encoded data removed]",
      "text/plain": [
       "<Figure size 640x480 with 1 Axes>"
      ]
     },
     "metadata": {},
     "output_type": "display_data"
    },
    {
     "data": {
      "image/png": "[encoded data removed]",
      "text/plain": [
       "<Figure size 640x480 with 1 Axes>"
      ]
     },
     "metadata": {},
     "output_type": "display_data"
    },
    {
     "data": {
      "image/png": "[encoded data removed]",
      "text/plain": [
       "<Figure size 640x480 with 1 Axes>"
      ]
     },
     "metadata": {},
     "output_type": "display_data"
    },
    {
     "data": {
      "image/png": "[encoded data removed]",
      "text/plain": [
       "<Figure size 640x480 with 1 Axes>"
      ]
     },
     "metadata": {},
     "output_type": "display_data"
    },
    {
     "data": {
      "image/png": "[encoded data removed]",
      "text/plain": [
       "<Figure size 640x480 with 1 Axes>"
      ]
     },
     "metadata": {},
     "output_type": "display_data"
    },
    {
     "data": {
      "image/png": "[encoded data removed]",
      "text/plain": [
       "<Figure size 640x480 with 1 Axes>"
      ]
     },
     "metadata": {},
     "output_type": "display_data"
    },
    {
     "data": {
      "image/png": "[encoded data removed]",
      "text/plain": [
       "<Figure size 640x480 with 1 Axes>"
      ]
     },
     "metadata": {},
     "output_type": "display_data"
    },
    {
     "data": {
      "image/png": "[encoded data removed]",
      "text/plain": [
       "<Figure size 640x480 with 1 Axes>"
      ]
     },
     "metadata": {},
     "output_type": "display_data"
    },
    {
     "data": {
      "image/png": "[encoded data removed]",
      "text/plain": [
       "<Figure size 640x480 with 1 Axes>"
      ]
     },
     "metadata": {},
     "output_type": "display_data"
    },
    {
     "data": {
      "image/png": "[encoded data removed]",
      "text/plain": [
       "<Figure size 640x480 with 1 Axes>"
      ]
     },
     "metadata": {},
     "output_type": "display_data"
    },
    {
     "data": {
      "image/png": "[encoded data removed]",
      "text/plain": [
       "<Figure size 640x480 with 1 Axes>"
      ]
     },
     "metadata": {},
     "output_type": "display_data"
    },
    {
     "data": {
      "image/png": "[encoded data removed]",
      "text/plain": [
       "<Figure size 640x480 with 1 Axes>"
      ]
     },
     "metadata": {},
     "output_type": "display_data"
    },
    {
     "data": {
      "image/png": "[encoded data removed]",
      "text/plain": [
       "<Figure size 640x480 with 1 Axes>"
      ]
     },
     "metadata": {},
     "output_type": "display_data"
    },
    {
     "data": {
      "image/png": "[encoded data removed]",
      "text/plain": [
       "<Figure size 640x480 with 1 Axes>"
      ]
     },
     "metadata": {},
     "output_type": "display_data"
    },
    {
     "data": {
      "image/png": "[encoded data removed]",
      "text/plain": [
       "<Figure size 640x480 with 1 Axes>"
      ]
     },
     "metadata": {},
     "output_type": "display_data"
    },
    {
     "data": {
      "image/png": "[encoded data removed]",
      "text/plain": [
       "<Figure size 640x480 with 1 Axes>"
      ]
     },
     "metadata": {},
     "output_type": "display_data"
    },
    {
     "data": {
      "image/png": "[encoded data removed]",
      "text/plain": [
       "<Figure size 640x480 with 1 Axes>"
      ]
     },
     "metadata": {},
     "output_type": "display_data"
    },
    {
     "data": {
      "image/png": "[encoded data removed]",
      "text/plain": [
       "<Figure size 640x480 with 1 Axes>"
      ]
     },
     "metadata": {},
     "output_type": "display_data"
    },
    {
     "data": {
      "image/png": "[encoded data removed]",
      "text/plain": [
       "<Figure size 640x480 with 1 Axes>"
      ]
     },
     "metadata": {},
     "output_type": "display_data"
    },
    {
     "data": {
      "image/png": "[encoded data removed]",
      "text/plain": [
       "<Figure size 640x480 with 1 Axes>"
      ]
     },
     "metadata": {},
     "output_type": "display_data"
    },
    {
     "data": {
      "image/png": "[encoded data removed]",
      "text/plain": [
       "<Figure size 640x480 with 1 Axes>"
      ]
     },
     "metadata": {},
     "output_type": "display_data"
    },
    {
     "data": {
      "image/png": "[encoded data removed]",
      "text/plain": [
       "<Figure size 640x480 with 1 Axes>"
      ]
     },
     "metadata": {},
     "output_type": "display_data"
    },
    {
     "data": {
      "image/png": "[encoded data removed]",
      "text/plain": [
       "<Figure size 640x480 with 1 Axes>"
      ]
     },
     "metadata": {},
     "output_type": "display_data"
    },
    {
     "data": {
      "image/png": "[encoded data removed]",
      "text/plain": [
       "<Figure size 640x480 with 1 Axes>"
      ]
     },
     "metadata": {},
     "output_type": "display_data"
    },
    {
     "data": {
      "image/png": "[encoded data removed]",
      "text/plain": [
       "<Figure size 640x480 with 1 Axes>"
      ]
     },
     "metadata": {},
     "output_type": "display_data"
    },
    {
     "data": {
      "image/png": "[encoded data removed]",
      "text/plain": [
       "<Figure size 640x480 with 1 Axes>"
      ]
     },
     "metadata": {},
     "output_type": "display_data"
    },
    {
     "data": {
      "image/png": "[encoded data removed]",
      "text/plain": [
       "<Figure size 640x480 with 1 Axes>"
      ]
     },
     "metadata": {},
     "output_type": "display_data"
    },
    {
     "data": {
      "image/png": "[encoded data removed]",
      "text/plain": [
       "<Figure size 640x480 with 1 Axes>"
      ]
     },
     "metadata": {},
     "output_type": "display_data"
    },
    {
     "data": {
      "image/png": "[encoded data removed]",
      "text/plain": [
       "<Figure size 640x480 with 1 Axes>"
      ]
     },
     "metadata": {},
     "output_type": "display_data"
    },
    {
     "data": {
      "image/png": "[encoded data removed]",
      "text/plain": [
       "<Figure size 640x480 with 1 Axes>"
      ]
     },
     "metadata": {},
     "output_type": "display_data"
    },
    {
     "data": {
      "image/png": "[encoded data removed]",
      "text/plain": [
       "<Figure size 640x480 with 1 Axes>"
      ]
     },
     "metadata": {},
     "output_type": "display_data"
    },
    {
     "data": {
      "image/png": "[encoded data removed]",
      "text/plain": [
       "<Figure size 640x480 with 1 Axes>"
      ]
     },
     "metadata": {},
     "output_type": "display_data"
    },
    {
     "data": {
      "image/png": "[encoded data removed]",
      "text/plain": [
       "<Figure size 640x480 with 1 Axes>"
      ]
     },
     "metadata": {},
     "output_type": "display_data"
    },
    {
     "data": {
      "image/png": "[encoded data removed]",
      "text/plain": [
       "<Figure size 640x480 with 1 Axes>"
      ]
     },
     "metadata": {},
     "output_type": "display_data"
    },
    {
     "data": {
      "image/png": "[encoded data removed]",
      "text/plain": [
       "<Figure size 640x480 with 1 Axes>"
      ]
     },
     "metadata": {},
     "output_type": "display_data"
    },
    {
     "data": {
      "image/png": "[encoded data removed]",
      "text/plain": [
       "<Figure size 640x480 with 1 Axes>"
      ]
     },
     "metadata": {},
     "output_type": "display_data"
    },
    {
     "data": {
      "image/png": "[encoded data removed]",
      "text/plain": [
       "<Figure size 640x480 with 1 Axes>"
      ]
     },
     "metadata": {},
     "output_type": "display_data"
    },
    {
     "data": {
      "image/png": "[encoded data removed]",
      "text/plain": [
       "<Figure size 640x480 with 1 Axes>"
      ]
     },
     "metadata": {},
     "output_type": "display_data"
    },
    {
     "data": {
      "image/png": "[encoded data removed]",
      "text/plain": [
       "<Figure size 640x480 with 1 Axes>"
      ]
     },
     "metadata": {},
     "output_type": "display_data"
    },
    {
     "data": {
      "image/png": "[encoded data removed]",
      "text/plain": [
       "<Figure size 640x480 with 1 Axes>"
      ]
     },
     "metadata": {},
     "output_type": "display_data"
    },
    {
     "data": {
      "image/png": "[encoded data removed]",
      "text/plain": [
       "<Figure size 640x480 with 1 Axes>"
      ]
     },
     "metadata": {},
     "output_type": "display_data"
    }
   ],
   "source": [
    "for i in range(0,50):\n",
    "    plt.imshow(X_test[i], cmap = 'binary')\n",
    "    plt.axis(\"off\")\n",
    "    plt.show()"
   ]
  },
  {
   "cell_type": "code",
   "execution_count": 21,
   "metadata": {},
   "outputs": [
    {
     "name": "stdout",
     "output_type": "stream",
     "text": [
      "1/1 [==============================] - 0s 82ms/step\n"
     ]
    },
    {
     "data": {
      "text/plain": [
       "array([[1.26748567e-09, 1.41465140e-09, 2.35199536e-07, 2.42739286e-08,\n",
       "        9.01944144e-12, 3.90759855e-11, 8.69241145e-16, 9.99998212e-01,\n",
       "        1.12184473e-09, 1.49668199e-06],\n",
       "       [1.04095073e-10, 2.08047777e-06, 9.99997497e-01, 3.89702677e-07,\n",
       "        7.01806912e-14, 7.75240983e-11, 1.09354383e-11, 1.95373917e-09,\n",
       "        1.59895759e-08, 6.07692976e-12],\n",
       "       [2.66476956e-08, 9.99510050e-01, 8.53701204e-06, 5.12823362e-07,\n",
       "        6.85140767e-05, 4.28924132e-08, 7.58597616e-06, 3.98794480e-04,\n",
       "        5.85996486e-06, 1.35277858e-07],\n",
       "       [9.99775112e-01, 2.52349253e-08, 3.21029484e-06, 1.32517761e-10,\n",
       "        2.62955109e-06, 9.90261900e-11, 6.81626091e-07, 1.17941112e-04,\n",
       "        6.16848406e-10, 1.00400583e-04],\n",
       "       [1.44321262e-07, 1.07912506e-07, 9.08121933e-08, 6.75072845e-11,\n",
       "        9.95682955e-01, 2.30860153e-09, 1.18803811e-08, 8.44042443e-05,\n",
       "        4.75247219e-09, 4.23224131e-03],\n",
       "       [4.44854639e-11, 9.99767959e-01, 7.16293336e-09, 2.51051113e-09,\n",
       "        3.14085482e-05, 5.96157021e-12, 2.57495292e-09, 2.00627372e-04,\n",
       "        4.38031122e-08, 1.47073687e-08],\n",
       "       [4.48695914e-10, 4.02161255e-08, 1.64962302e-08, 4.63576122e-10,\n",
       "        9.99948144e-01, 2.57059901e-06, 6.27324015e-09, 3.69114532e-05,\n",
       "        2.16115268e-06, 1.00907419e-05],\n",
       "       [3.80344403e-07, 1.78308301e-06, 6.76136930e-04, 1.35110803e-02,\n",
       "        2.99529056e-05, 1.02118993e-05, 4.12879009e-10, 3.48778151e-04,\n",
       "        6.83644248e-06, 9.85414863e-01],\n",
       "       [2.94462524e-07, 8.13808674e-06, 1.37127761e-04, 9.08402671e-06,\n",
       "        2.52871052e-03, 6.75521314e-01, 3.18175226e-01, 1.75745768e-07,\n",
       "        3.13987373e-03, 4.80145769e-04],\n",
       "       [5.03026024e-11, 1.56247848e-10, 8.79255890e-10, 9.47032408e-09,\n",
       "        5.56557381e-04, 2.67453504e-10, 3.89530124e-14, 6.99083685e-05,\n",
       "        8.74024906e-08, 9.99373376e-01]], dtype=float32)"
      ]
     },
     "execution_count": 21,
     "metadata": {},
     "output_type": "execute_result"
    }
   ],
   "source": [
    "prediction = model_clf.predict(X_test[0:10])\n",
    "\n",
    "prediction"
   ]
  },
  {
   "cell_type": "code",
   "execution_count": null,
   "metadata": {},
   "outputs": [],
   "source": []
  }
 ],
 "metadata": {
  "kernelspec": {
   "display_name": "DL",
   "language": "python",
   "name": "python3"
  },
  "language_info": {
   "codemirror_mode": {
    "name": "ipython",
    "version": 3
   },
   "file_extension": ".py",
   "mimetype": "text/x-python",
   "name": "python",
   "nbconvert_exporter": "python",
   "pygments_lexer": "ipython3",
   "version": "3.11.3"
  },
  "orig_nbformat": 4
 },
 "nbformat": 4,
 "nbformat_minor": 2
}
