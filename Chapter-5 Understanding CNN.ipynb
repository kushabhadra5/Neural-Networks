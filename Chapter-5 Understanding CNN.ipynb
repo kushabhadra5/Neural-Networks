{
 "cells": [
  {
   "cell_type": "markdown",
   "metadata": {},
   "source": [
    "Let's understand how CNN came into picture.\n",
    "\n",
    "If we consider the MNIST dataset then,"
   ]
  },
  {
   "cell_type": "code",
   "execution_count": 1,
   "metadata": {},
   "outputs": [],
   "source": [
    "import tensorflow as tf"
   ]
  },
  {
   "cell_type": "code",
   "execution_count": 2,
   "metadata": {},
   "outputs": [],
   "source": [
    "(X_train, y_train), (X_test, y_test) = tf.keras.datasets.mnist.load_data()"
   ]
  },
  {
   "cell_type": "code",
   "execution_count": 3,
   "metadata": {},
   "outputs": [],
   "source": [
    "import matplotlib.pyplot as plt"
   ]
  },
  {
   "cell_type": "code",
   "execution_count": 9,
   "metadata": {},
   "outputs": [
    {
     "data": {
      "image/png": "[encoded data removed]",
      "text/plain": [
       "<Figure size 640x480 with 1 Axes>"
      ]
     },
     "metadata": {},
     "output_type": "display_data"
    }
   ],
   "source": [
    "plt.imshow(X_test[0], cmap = 'binary')\n",
    "plt.grid(True)\n",
    "plt.show()"
   ]
  },
  {
   "cell_type": "markdown",
   "metadata": {},
   "source": [
    "Here, as we can see the text is appearing at the centre of the plot area. \n",
    "\n",
    " - What about if the text appears in different orientation or at different area of the plot?\n",
    " - What about if the image is RGB instead of greyscale?\n",
    "\n",
    "    **NOTE**: We are are arising the question of RGB because an RGB image consist of 3 layers of image for each chrome.\n",
    "\n",
    "    If we flatten a $25*25$ resolution of grescale image the resulting array will contrain $625$ pixel values. But in case of RGB image the resulting array will contain $25*25*3$ i.e. $1875$ pixel values.\n",
    "\n",
    "    In the greyscale image the resulting array contains pixel of similar characteristics, but in case of RGB the resulting array or of three different characteristics representing each chromatic coordinate"
   ]
  },
  {
   "cell_type": "markdown",
   "metadata": {},
   "source": [
    "If we train this model using an ANN, then the imput layer will have $1875$ neuron. Suppose the second layer of consists of $500$ neurons then the total number of weights required to count will be $1875*500$ i.e. $937500$. This might seem a smaller number but instead of using $25*25$ image if we use image of full hd resolution that is $1920*1080$ resolution then the imput layer is having around 6 millions of neurons. So if the initital input layer is having huge amount of neurons then the it will be taking a lot of time to compute."
   ]
  },
  {
   "cell_type": "markdown",
   "metadata": {},
   "source": [
    "Let's see how human brain detects numerical $9$. The main character to look out for numerical $9$ is a ccomplete circular loop at the top a straight or slanted line going down and may be a horizontal line at bottom.\n",
    "\n",
    "Similar to recognise a tiger we will look some of the features like black stripes on browning orange colour. Massive paws, whiskers on the face cannine teeth and many more."
   ]
  },
  {
   "cell_type": "markdown",
   "metadata": {},
   "source": [
    "But the problem with machine is the way we interpret and distiguish images are in our genes already but for the machines it is not. For machines they analyze the image as a matrix containing some numerical values.\n",
    " \n",
    "So to make make the analysis better we'll be using features extraction and pooling methods then the input will be given to the ANN."
   ]
  },
  {
   "cell_type": "markdown",
   "metadata": {},
   "source": [
    "## **Some important terminology related to CNN and its other forms:**\n",
    "\n",
    "- **Convolutional layer**: \n",
    "\n",
    "    A convolutional layer is a type of layer in a CNN that applies a convolution operation to the input data. The convolution operation is a mathematical operation that extracts features from the input data. The convolutional layer has a set of filters, which are small matrices that are used to perform the convolution operation. The filters are learned during the training process.\n",
    "\n",
    "    Characteristics of the convolutional layer:\n",
    "\n",
    "    - Convolutional layers extract features from the input data.\n",
    "    - Convolutional layers have filters, which are learned during the training process.\n",
    "    - Convolutional layers can be used to extract features at different scales.\n",
    "\n",
    "- **Pooling layer**: \n",
    "\n",
    "    A pooling layer is a type of layer in a CNN that downsamples the output of the convolutional layer. This is done to reduce the size of the feature maps and to make the network more efficient. There are two main types of pooling layers: max pooling and average pooling. Max pooling takes the maximum value in each region. Average pooling takes the average value in each region.\n",
    "\n",
    "    Characteristics of the convolutional layer:\n",
    "\n",
    "    - Pooling layers downsample the output of the convolutional layers.\n",
    "    - Pooling layers do not have any learnable parameters.\n",
    "    - Pooling layers can only be used to extract features at a single scale.\n",
    "\n",
    "- \n"
   ]
  }
 ],
 "metadata": {
  "kernelspec": {
   "display_name": "DL",
   "language": "python",
   "name": "python3"
  },
  "language_info": {
   "codemirror_mode": {
    "name": "ipython",
    "version": 3
   },
   "file_extension": ".py",
   "mimetype": "text/x-python",
   "name": "python",
   "nbconvert_exporter": "python",
   "pygments_lexer": "ipython3",
   "version": "3.11.3"
  },
  "orig_nbformat": 4
 },
 "nbformat": 4,
 "nbformat_minor": 2
}
