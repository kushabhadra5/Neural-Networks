{
 "cells": [
  {
   "cell_type": "markdown",
   "metadata": {},
   "source": [
    "### **Understanding the LeNET structure**:\n",
    "\n",
    "| **Layers** | **Feature Map or depth of features** | **Kernel size** | **Input image size** | **Output Feature size** | **Activation** | **Stride** | **Neurons in hidden layer(in case of Fully connected layers)**\n",
    "|---|---|---|---|---|---|---|---|\n",
    "|Reshaping or normalizing the image dimensions | - | - | - | $32*32$ | - | - | - | - |\n",
    "| $1^{st}$ Convolution layer | 6 | $5*5$ | $32*32$ | $28*28$ | $\\tanh$ | 1 | none |\n",
    "| Average Pooling layer | none | $2*2$ | $28*28$ |  $14*14$ | none | 2 | none |\n",
    "| $2^{nd}$ Convolution layer | 16 | $5*5$ | $14*14$ | $10*10$ | $\\tanh$ | 1 | none |\n",
    "| Average Pooling layer | none | $2*2$ | $10*10$ |  $5*5$ | none | 2 | none |\n",
    "| $3^{rd}$ Convolution layer | 120 | $5*5$ | $5*5$ | $1*1$ | $\\tanh$ | 1 | none |\n",
    "| $1^{st}$ Fully Connected layer | none | none | none | none | $\\tanh$ | none | 84 |\n",
    "| $2^{nd}$ Fully Connected layer or Output layer | none | none | none | none | softmax | none | 10 |"
   ]
  },
  {
   "cell_type": "markdown",
   "metadata": {},
   "source": [
    "### **Code Implementation of LeNet structure**:"
   ]
  },
  {
   "cell_type": "markdown",
   "metadata": {},
   "source": [
    "- Importing dependencies:"
   ]
  },
  {
   "cell_type": "code",
   "execution_count": 2,
   "metadata": {},
   "outputs": [],
   "source": [
    "from tensorflow import keras\n",
    "from keras.models import Sequential\n",
    "from keras.layers import (Conv2D,\n",
    "                          AveragePooling2D,\n",
    "                          Dense, \n",
    "                          Flatten)"
   ]
  },
  {
   "cell_type": "markdown",
   "metadata": {},
   "source": [
    "- Building the LeNet CNN model:"
   ]
  },
  {
   "cell_type": "code",
   "execution_count": 3,
   "metadata": {},
   "outputs": [
    {
     "name": "stdout",
     "output_type": "stream",
     "text": [
      "Model: \"sequential\"\n",
      "_________________________________________________________________\n",
      " Layer (type)                Output Shape              Param #   \n",
      "=================================================================\n",
      " conv2d (Conv2D)             (None, 28, 28, 6)         456       \n",
      "                                                                 \n",
      " average_pooling2d (Average  (None, 14, 14, 6)         0         \n",
      " Pooling2D)                                                      \n",
      "                                                                 \n",
      " conv2d_1 (Conv2D)           (None, 10, 10, 16)        2416      \n",
      "                                                                 \n",
      " average_pooling2d_1 (Avera  (None, 5, 5, 16)          0         \n",
      " gePooling2D)                                                    \n",
      "                                                                 \n",
      " conv2d_2 (Conv2D)           (None, 1, 1, 120)         48120     \n",
      "                                                                 \n",
      " flatten (Flatten)           (None, 120)               0         \n",
      "                                                                 \n",
      " dense (Dense)               (None, 84)                10164     \n",
      "                                                                 \n",
      " dense_1 (Dense)             (None, 10)                850       \n",
      "                                                                 \n",
      "=================================================================\n",
      "Total params: 62006 (242.21 KB)\n",
      "Trainable params: 62006 (242.21 KB)\n",
      "Non-trainable params: 0 (0.00 Byte)\n",
      "_________________________________________________________________\n"
     ]
    }
   ],
   "source": [
    "model = Sequential()\n",
    "\n",
    "# First Convolutional layer \n",
    "model.add(Conv2D(6, \n",
    "                 kernel_size = (5,5), \n",
    "                 padding = 'valid', \n",
    "                 activation='tanh', \n",
    "                 input_shape = (32,32,3)))\n",
    "model.add(AveragePooling2D(pool_size= (2,2), strides = 2, padding = 'valid'))\n",
    "\n",
    "# Second Convolutional layer \n",
    "model.add(Conv2D(16, \n",
    "                 kernel_size = (5,5), \n",
    "                 padding = 'valid', \n",
    "                 activation='tanh'))\n",
    "model.add(AveragePooling2D(pool_size= (2,2), strides = 2, padding = 'valid'))\n",
    "\n",
    "# Second Convolutional layer \n",
    "model.add(Conv2D(120, kernel_size = (5,5), padding = 'valid', activation='tanh'))\n",
    "\n",
    "# Flattening the resultant convolutional layer\n",
    "model.add(Flatten())\n",
    "model.add(Dense(84, activation='tanh'))\n",
    "model.add(Dense(10, activation='softmax'))\n",
    "\n",
    "model.summary()\n",
    "\n",
    "\n",
    "model.compile(loss=keras.metrics.categorical_crossentropy, optimizer=keras.optimizers.Adam(), metrics=['accuracy'])"
   ]
  },
  {
   "cell_type": "markdown",
   "metadata": {},
   "source": [
    "### **Loading the dataset**:"
   ]
  },
  {
   "cell_type": "code",
   "execution_count": 4,
   "metadata": {},
   "outputs": [],
   "source": [
    "# Load the CIFAR-10 dataset\n",
    "(x_train, y_train), (x_test, y_test) = keras.datasets.cifar10.load_data()\n",
    "\n",
    "# Normalize pixel values between 0 and 1\n",
    "x_train = x_train.astype('float') / 255.0\n",
    "x_test = x_test.astype('float') / 255.0\n",
    "\n",
    "# Convert labels to one-hot encoding\n",
    "y_train = keras.utils.to_categorical(y_train, 10)\n",
    "y_test = keras.utils.to_categorical(y_test, 10)"
   ]
  },
  {
   "cell_type": "markdown",
   "metadata": {},
   "source": [
    "### Implementing LeNet on the loaded dataset"
   ]
  },
  {
   "cell_type": "code",
   "execution_count": 5,
   "metadata": {},
   "outputs": [
    {
     "name": "stdout",
     "output_type": "stream",
     "text": [
      "Epoch 1/2\n",
      "391/391 [==============================] - 9s 21ms/step - loss: 1.8491 - accuracy: 0.3449 - val_loss: 1.7828 - val_accuracy: 0.3759\n",
      "Epoch 2/2\n",
      "391/391 [==============================] - 9s 24ms/step - loss: 1.6681 - accuracy: 0.4124 - val_loss: 1.5923 - val_accuracy: 0.4330\n",
      "313/313 [==============================] - 1s 3ms/step - loss: 1.5923 - accuracy: 0.4330\n",
      "Test Loss: 1.5922776460647583\n",
      "Test accuracy: 0.43299999833106995\n"
     ]
    }
   ],
   "source": [
    "model.fit(x_train, y_train, \n",
    "          batch_size=128, epochs=2, \n",
    "          verbose=1, \n",
    "          validation_data=(x_test, y_test))\n",
    "\n",
    "score = model.evaluate(x_test, y_test)\n",
    "\n",
    "print('Test Loss:', score[0])\n",
    "print('Test accuracy:', score[1])"
   ]
  }
 ],
 "metadata": {
  "kernelspec": {
   "display_name": "DL",
   "language": "python",
   "name": "python3"
  },
  "language_info": {
   "codemirror_mode": {
    "name": "ipython",
    "version": 3
   },
   "file_extension": ".py",
   "mimetype": "text/x-python",
   "name": "python",
   "nbconvert_exporter": "python",
   "pygments_lexer": "ipython3",
   "version": "3.11.3"
  },
  "orig_nbformat": 4
 },
 "nbformat": 4,
 "nbformat_minor": 2
}
